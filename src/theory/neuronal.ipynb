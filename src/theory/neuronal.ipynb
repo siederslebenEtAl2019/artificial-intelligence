{
 "cells": [
  {
   "cell_type": "markdown",
   "metadata": {},
   "source": [
    "# The Math of Neuronal Networks"
   ]
  },
  {
   "cell_type": "markdown",
   "metadata": {},
   "source": [
    "## Summary"
   ]
  },
  {
   "cell_type": "markdown",
   "metadata": {},
   "source": [
    "## Linear Regression"
   ]
  },
  {
   "cell_type": "markdown",
   "metadata": {},
   "source": [
    "We study an experiment with input $\\mathbf{x} \\in \\mathbb{R}^p$ and output $\\mathbf{y} \\in \\mathbb{R}^q$ supposed to depend linearly on $\\mathbf{x}$:\n",
    "\n",
    "$$ \\mathbf{y} = \\mathbf{W}^T \\mathbf{x} \\quad \\quad (q \\times 1) = (q \\times p) \\times (p \\times 1)$$\n",
    "\n",
    "Here, $\\mathbf{x}$ and $\\mathbf{y}$ are row vectors of length $p$ and $q$, the matrix $\\mathbf{W} = [w_{h, i}]_{p \\times q}$ describes how $\\mathbf{x}$ influences $\\mathbf{y}$: $w_{h, i}$ is the impact or weight of input $x_h$ on output $y_i$.\n",
    " \n",
    " $$y_h = \\sum_{h = 1}^{p}{w_{h, i}x_{h}}$$\n",
    "\n",
    "![Linear regression with p input and q output variables](linreg.png)\n",
    "\n",
    "After $n$ experiments we have $n$ samples $(\\mathbf{x}_j, \\mathbf{z}_j)$ representing the input and output of the $n$th experiment as column vectors. With $\\mathbf{X}_{p \\times n} = [\\mathbf{x}_j]_{j = 1, \\ldots, n}$ \n",
    "and $\\mathbf{Z}_{q \\times n} = [\\mathbf{z}_j]_{j = 1, \\ldots, n}$ we search for a $\\mathbf{W}^*$ which minimizes the Euclidian distance between the measured output $\\mathbf{Z}$ and the computed values $\\mathbf{W}^T \\mathbf{X}$:\n",
    "\n",
    "$$ c(\\mathbf{W}, \\mathbf{X}) =  (\\mathbf{W}^T \\mathbf{X} - \\mathbf{Z})^2 $$\n",
    "\n",
    "The function $c$ represents the cost incured with sample $\\mathbf{X}$ and weights $\\mathbf{W}$. The Euclidian distance is commonly used but other choices are possible. \n",
    "Setting the derivative $D_W C$ to zero\n",
    "\n",
    "$$ D_W C = 2(\\mathbf{W}^T \\mathbf{X} - \\mathbf{Z})\\mathbf{X}^T = 0 $$\n",
    "\n",
    "yields the solution\n",
    "\n",
    "$$ \\mathbf{W}^* = (\\mathbf{X} \\mathbf{X}^T)^{-1} \\mathbf{X}\\mathbf{Z}^T \\quad \\quad (p \\times q) = (p \\times p) \\times (p \\times n) \\times(n \\times q) $$\n",
    "\n",
    "which can also be obtained by an orthogonality argument. We note that $\\mathbf{X} \\mathbf{X}^T$ is invertible whenever $\\mathbf{X}$ is of full rank.\n",
    "\n",
    "With $p = q = 1$ the model reduces to the well known simple case:\n",
    "\n",
    "$$ y = wx \\quad \\mathbf{y} = w\\mathbf{x} \\quad w^* = \\frac{\\mathbf{x}\\mathbf{z}^T}{\\mathbf{x}\\mathbf{x}^T} $$\n",
    "\n",
    "In preparation for neuronal networks we add an activation function $\\phi: \\mathbb{R} \\to \\mathbb{R}$ which works as a gate before each output:\n",
    "\n",
    "$$y_h = \\phi(\\sum_{h = 1}^{p}{w_{h, i}x_{h}})$$\n",
    "\n",
    "\n",
    "\n",
    "\n",
    "$\\begin{align}\\begin{split}\\frac{\\partial x_6}{\\partial x_0}=\\frac{\\partial x_6}{\\partial x_5}\\cdot(\\frac{\\partial x_5}{\\partial x_3}\\cdot(\\frac{\\partial x_3}{\\partial x_1}\\cdot\\frac{\\partial x_1}{\\partial x_0}+\\frac{\\partial x_3}{\\partial x_2}\\cdot(\\frac{\\partial x_2}{\\partial x_0}+\\frac{\\partial x_2}{\\partial x_1}\\cdot\\frac{\\partial x_1}{\\partial x_0}))+\\frac{\\partial x_5}{\\partial x_4}\\cdot(\\frac{\\partial x_4}{\\partial x_2}\\cdot(\\frac{\\partial x_2}{\\partial x_0}+\\frac{\\partial x_2}{\\partial x_1}\\cdot\\frac{\\partial x_1}{\\partial x_0})+\\frac{\\partial x_4}{\\partial x_3}\\cdot(\\frac{\\partial x_3}{\\partial x_1}\\cdot\\frac{\\partial x_1}{\\partial x_0}+\\frac{\\partial x_3}{\\partial x_2}\\cdot(\\frac{\\partial x_2}{\\partial x_0}+\\frac{\\partial x_2}{\\partial x_1}\\cdot\\frac{\\partial x_1}{\\partial x_0}))))\\end{split}\\end{align}$\n",
    "\n",
    "\n",
    "\n",
    "\n",
    "\n",
    "\n",
    "\n",
    "\n",
    "\n",
    "\n",
    "\n",
    "\n",
    "\n",
    "\n",
    "\n",
    "\n",
    "\n",
    "\n",
    "\n",
    "\n",
    "\n"
   ]
  },
  {
   "cell_type": "code",
   "execution_count": 6,
   "metadata": {},
   "outputs": [
    {
     "data": {
      "image/png": "[encoded data removed]",
      "text/plain": [
       "<IPython.core.display.Image object>"
      ]
     },
     "execution_count": 6,
     "metadata": {
      "image/png": {
       "height": 400,
       "width": 400
      }
     },
     "output_type": "execute_result"
    }
   ],
   "source": [
    "from IPython.display import Image\n",
    "Image(filename=\"linreg1.png\", width=400, height=400)"
   ]
  },
  {
   "cell_type": "markdown",
   "metadata": {},
   "source": [
    "## Multiple Linear Regression"
   ]
  },
  {
   "cell_type": "markdown",
   "metadata": {},
   "source": [
    "\n",
    "![this is a picture](linreg.png)\n",
    "\n",
    "\n",
    "Multiple linear regression is about one output variable $y$ which depends linearly on $p$ input variables $x_1, x_2, \\ldots x_p$, that is: $y = w \\cdot x$. Let $n$ samples $(x_{j}, y_{j})$ be given. With $\\mathbf{x} = [x_1, \\ldots, x_n]^T$ and $\\mathbf{y} = [y_1, .., y_n]^T$ we would like to find a $w^* \\in \\mathbb{R}$ which minimizes\n",
    "\n",
    " $$F(\\mathbf{w}, \\mathbf{x}) = (w \\cdot \\mathbf{x} - \\mathbf{y})^{2}$$\n",
    "\n",
    "$F$ depends deliberately on $w$ and $\\mathbf{x}$ only; $\\mathbf{y}$ is considered part of $F$. Setting the partial derivative $D_w F$ to zero gives us:\n",
    "\n",
    "$$ D_{w}F = 2 \\cdot (w^* \\cdot \\mathbf{x} - \\mathbf{y})^T \\cdot \\mathbf{x} = 0$$\n",
    "\n",
    "hence \n",
    "\n",
    "$$w^* = \\mathbf{x}^T \\mathbf{y}/\\mathbf{x}^T \\mathbf{x} $$"
   ]
  }
 ],
 "metadata": {
  "kernelspec": {
   "display_name": "Python 3",
   "language": "python",
   "name": "python3"
  },
  "language_info": {
   "codemirror_mode": {
    "name": "ipython",
    "version": 3
   },
   "file_extension": ".py",
   "mimetype": "text/x-python",
   "name": "python",
   "nbconvert_exporter": "python",
   "pygments_lexer": "ipython3",
   "version": "3.7.7"
  }
 },
 "nbformat": 4,
 "nbformat_minor": 4
}
